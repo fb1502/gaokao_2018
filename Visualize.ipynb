{
 "cells": [
  {
   "cell_type": "code",
   "execution_count": 1,
   "metadata": {
    "collapsed": true
   },
   "outputs": [],
   "source": [
    "import numpy as np\n",
    "import pandas as pd\n",
    "import seaborn as sns\n",
    "import matplotlib.pyplot as plt\n",
    "from pylab import mpl\n",
    "from matplotlib.font_manager import FontProperties\n",
    "myfont = FontProperties(fname=r'font/SimHei.ttf')  \n",
    "mpl.rcParams['axes.unicode_minus'] = False\n",
    "%matplotlib inline"
   ]
  },
  {
   "cell_type": "code",
   "execution_count": 2,
   "metadata": {
    "collapsed": true
   },
   "outputs": [],
   "source": [
    "col_names = ['地点', '出生人数', '男', '女'] + [i for i in range(36)]\n",
    "\n",
    "df_gaokao_2018 = pd.read_csv('gaokao_2018.txt', \n",
    "                             sep=' ', \n",
    "                             skiprows=[0]).fillna(0)\n",
    "\n",
    "df_population = pd.read_csv('population_cn_2000.txt', \n",
    "                            sep='\\t', \n",
    "                            header=None, \n",
    "                            names=col_names,\n",
    "                            usecols=['地点', '出生人数', '男', '女']).dropna()\n",
    "\n",
    "df_gaokao = pd.merge(df_gaokao_2018, df_population, on='地点')\n",
    "\n",
    "df_gaokao['男女人数差'] = df_gaokao['男'] - df_gaokao['女']\n",
    "df_gaokao['男女人数比'] = df_gaokao['男'] / df_gaokao['女']\n",
    "df_gaokao['光棍占比'] = df_gaokao['男女人数差'] / df_gaokao['男']\n",
    "df_gaokao['未高考人数'] = df_gaokao['出生人数'] - df_gaokao['报名人数']\n",
    "df_gaokao['未高考人口比'] = df_gaokao['未高考人数'] / df_gaokao['出生人数']\n",
    "df_gaokao['一本人口比'] = df_gaokao['一本上线人数'] / df_gaokao['出生人数']"
   ]
  },
  {
   "cell_type": "code",
   "execution_count": 3,
   "metadata": {},
   "outputs": [
    {
     "data": {
      "text/html": [
       "<div>\n",
       "<style scoped>\n",
       "    .dataframe tbody tr th:only-of-type {\n",
       "        vertical-align: middle;\n",
       "    }\n",
       "\n",
       "    .dataframe tbody tr th {\n",
       "        vertical-align: top;\n",
       "    }\n",
       "\n",
       "    .dataframe thead th {\n",
       "        text-align: right;\n",
       "    }\n",
       "</style>\n",
       "<table border=\"1\" class=\"dataframe\">\n",
       "  <thead>\n",
       "    <tr style=\"text-align: right;\">\n",
       "      <th></th>\n",
       "      <th>地点</th>\n",
       "      <th>缩写</th>\n",
       "      <th>报名人数</th>\n",
       "      <th>一本上线人数</th>\n",
       "      <th>出生人数</th>\n",
       "      <th>男</th>\n",
       "      <th>女</th>\n",
       "      <th>男女人数差</th>\n",
       "      <th>男女人数比</th>\n",
       "      <th>光棍占比</th>\n",
       "      <th>未高考人数</th>\n",
       "      <th>未高考人口比</th>\n",
       "      <th>一本人口比</th>\n",
       "    </tr>\n",
       "  </thead>\n",
       "  <tbody>\n",
       "    <tr>\n",
       "      <th>1</th>\n",
       "      <td>北京</td>\n",
       "      <td>BJ</td>\n",
       "      <td>63073</td>\n",
       "      <td>21500.0</td>\n",
       "      <td>81605.0</td>\n",
       "      <td>42849.0</td>\n",
       "      <td>38756.0</td>\n",
       "      <td>4093.0</td>\n",
       "      <td>1.105609</td>\n",
       "      <td>0.095521</td>\n",
       "      <td>18532.0</td>\n",
       "      <td>0.227094</td>\n",
       "      <td>0.263464</td>\n",
       "    </tr>\n",
       "    <tr>\n",
       "      <th>2</th>\n",
       "      <td>天津</td>\n",
       "      <td>TJ</td>\n",
       "      <td>55074</td>\n",
       "      <td>18500.0</td>\n",
       "      <td>71069.0</td>\n",
       "      <td>37627.0</td>\n",
       "      <td>33442.0</td>\n",
       "      <td>4185.0</td>\n",
       "      <td>1.125142</td>\n",
       "      <td>0.111223</td>\n",
       "      <td>15995.0</td>\n",
       "      <td>0.225063</td>\n",
       "      <td>0.260310</td>\n",
       "    </tr>\n",
       "    <tr>\n",
       "      <th>3</th>\n",
       "      <td>河北</td>\n",
       "      <td>HeBei</td>\n",
       "      <td>486400</td>\n",
       "      <td>98800.0</td>\n",
       "      <td>761766.0</td>\n",
       "      <td>404849.0</td>\n",
       "      <td>356917.0</td>\n",
       "      <td>47932.0</td>\n",
       "      <td>1.134295</td>\n",
       "      <td>0.118395</td>\n",
       "      <td>275366.0</td>\n",
       "      <td>0.361484</td>\n",
       "      <td>0.129699</td>\n",
       "    </tr>\n",
       "    <tr>\n",
       "      <th>4</th>\n",
       "      <td>山西</td>\n",
       "      <td>Shanxi</td>\n",
       "      <td>305071</td>\n",
       "      <td>37200.0</td>\n",
       "      <td>433817.0</td>\n",
       "      <td>229684.0</td>\n",
       "      <td>204133.0</td>\n",
       "      <td>25551.0</td>\n",
       "      <td>1.125168</td>\n",
       "      <td>0.111244</td>\n",
       "      <td>128746.0</td>\n",
       "      <td>0.296775</td>\n",
       "      <td>0.085750</td>\n",
       "    </tr>\n",
       "    <tr>\n",
       "      <th>5</th>\n",
       "      <td>吉林</td>\n",
       "      <td>JL</td>\n",
       "      <td>150329</td>\n",
       "      <td>19900.0</td>\n",
       "      <td>232008.0</td>\n",
       "      <td>122173.0</td>\n",
       "      <td>109835.0</td>\n",
       "      <td>12338.0</td>\n",
       "      <td>1.112332</td>\n",
       "      <td>0.100988</td>\n",
       "      <td>81679.0</td>\n",
       "      <td>0.352053</td>\n",
       "      <td>0.085773</td>\n",
       "    </tr>\n",
       "  </tbody>\n",
       "</table>\n",
       "</div>"
      ],
      "text/plain": [
       "   地点      缩写    报名人数   一本上线人数      出生人数         男         女    男女人数差  \\\n",
       "1  北京      BJ   63073  21500.0   81605.0   42849.0   38756.0   4093.0   \n",
       "2  天津      TJ   55074  18500.0   71069.0   37627.0   33442.0   4185.0   \n",
       "3  河北   HeBei  486400  98800.0  761766.0  404849.0  356917.0  47932.0   \n",
       "4  山西  Shanxi  305071  37200.0  433817.0  229684.0  204133.0  25551.0   \n",
       "5  吉林      JL  150329  19900.0  232008.0  122173.0  109835.0  12338.0   \n",
       "\n",
       "      男女人数比      光棍占比     未高考人数    未高考人口比     一本人口比  \n",
       "1  1.105609  0.095521   18532.0  0.227094  0.263464  \n",
       "2  1.125142  0.111223   15995.0  0.225063  0.260310  \n",
       "3  1.134295  0.118395  275366.0  0.361484  0.129699  \n",
       "4  1.125168  0.111244  128746.0  0.296775  0.085750  \n",
       "5  1.112332  0.100988   81679.0  0.352053  0.085773  "
      ]
     },
     "execution_count": 3,
     "metadata": {},
     "output_type": "execute_result"
    }
   ],
   "source": [
    "df_gaokao = df_gaokao.drop(df_gaokao.index[0])  # 去掉全国数据\n",
    "df_gaokao.head()"
   ]
  },
  {
   "cell_type": "code",
   "execution_count": 19,
   "metadata": {},
   "outputs": [
    {
     "name": "stdout",
     "output_type": "stream",
     "text": [
      "0.2634642485141842 ,0.2603104025665199 ,0.12969862136141544 ,0.08575044315921229 ,0.0857729043826075 ,0.13493144543175928 ,0.12940330697340044 ,0.14170996693434104 ,0.1207740707996629 ,0.10145613553083241 ,0.16022453534884748 ,0.03012699687915212 ,0.07631193048756466 ,0.0 ,0.162030012767736 ,0.05342040754397306 ,0.0983800662832069 ,0.15749955424654458 ,0.13138404070329104 ,0.0 ,0.10149708195889368 ,0.0 ,0.1206015686838886 ,0.0915573094470022 ,0.07629293075670653 ,0.06987796194797238 ,0.14322956917782106 ,0.10811989707728252 ,0.11239189423732257 ,0.11034306662532602 ,0.13572983272488096 ,"
     ]
    }
   ],
   "source": [
    "for item in df_gaokao['一本人口比'].values:\n",
    "    print(item,\",\", end='')"
   ]
  },
  {
   "cell_type": "code",
   "execution_count": 8,
   "metadata": {},
   "outputs": [
    {
     "data": {
      "image/png": "[encoded data removed]",
      "text/plain": [
       "<Figure size 720x720 with 1 Axes>"
      ]
     },
     "metadata": {},
     "output_type": "display_data"
    }
   ],
   "source": [
    "df_gaokao_temp = df_gaokao.sort_values(by='男女人数差', ascending=False)\n",
    "\n",
    "plt.figure(figsize=(10,10))\n",
    "plt.title('光棍绝对人数',fontproperties=myfont)\n",
    "plt.bar(x=df_gaokao_temp['缩写'],height=df_gaokao_temp['男女人数差'])\n",
    "plt.xticks(rotation='vertical')\n",
    "plt.show()"
   ]
  },
  {
   "cell_type": "code",
   "execution_count": 9,
   "metadata": {},
   "outputs": [
    {
     "data": {
      "image/png": "[encoded data removed]",
      "text/plain": [
       "<Figure size 720x720 with 1 Axes>"
      ]
     },
     "metadata": {},
     "output_type": "display_data"
    }
   ],
   "source": [
    "df_gaokao_temp = df_gaokao.sort_values(by='光棍占比', ascending=False)\n",
    "\n",
    "plt.figure(figsize=(10,10))\n",
    "plt.title('光棍占同龄男性比例',fontproperties=myfont)\n",
    "plt.bar(x=df_gaokao_temp['缩写'],height=df_gaokao_temp['光棍占比'])\n",
    "plt.xticks(rotation='vertical')\n",
    "plt.show()"
   ]
  },
  {
   "cell_type": "code",
   "execution_count": 10,
   "metadata": {},
   "outputs": [
    {
     "data": {
      "image/png": "[encoded data removed]",
      "text/plain": [
       "<Figure size 720x720 with 1 Axes>"
      ]
     },
     "metadata": {},
     "output_type": "display_data"
    }
   ],
   "source": [
    "df_gaokao_temp = df_gaokao.sort_values(by='一本人口比', ascending=False)\n",
    "\n",
    "plt.figure(figsize=(10,10))\n",
    "plt.title('一本招生占同龄人口比例',fontproperties=myfont)\n",
    "plt.bar(x=df_gaokao_temp['缩写'],height=df_gaokao_temp['一本人口比'])\n",
    "plt.xticks(rotation='vertical')\n",
    "plt.show()"
   ]
  },
  {
   "cell_type": "code",
   "execution_count": null,
   "metadata": {
    "collapsed": true
   },
   "outputs": [],
   "source": []
  }
 ],
 "metadata": {
  "anaconda-cloud": {},
  "kernelspec": {
   "display_name": "Python 3",
   "language": "python",
   "name": "python3"
  },
  "language_info": {
   "codemirror_mode": {
    "name": "ipython",
    "version": 3
   },
   "file_extension": ".py",
   "mimetype": "text/x-python",
   "name": "python",
   "nbconvert_exporter": "python",
   "pygments_lexer": "ipython3",
   "version": "3.6.2"
  }
 },
 "nbformat": 4,
 "nbformat_minor": 1
}
